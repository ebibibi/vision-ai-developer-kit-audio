{
 "cells": [
  {
   "cell_type": "markdown",
   "metadata": {},
   "source": [
    "### One of the best things about a Jypyter Notebook in Azure Machine Learning on a compute node is that you have all the requriemetns setup.  Development environment setup can take so long."
   ]
  },
  {
   "cell_type": "code",
   "execution_count": 56,
   "metadata": {},
   "outputs": [],
   "source": [
    "import os\n",
    "import sys\n",
    "import shutil\n",
    "import datetime\n",
    "import time\n",
    "import azureml\n",
    "import azureml.core\n",
    "from azureml.core import Workspace\n",
    "from azureml.core import Experiment\n",
    "from azureml.core.container_registry import ContainerRegistry\n",
    "from azureml.core.compute import ComputeTarget, AmlCompute\n",
    "from azureml.core.compute_target import ComputeTargetException\n",
    "from azureml.core.datastore import Datastore\n",
    "from azureml.core.runconfig import DataReferenceConfiguration, MpiConfiguration, TensorflowConfiguration\n",
    "from azureml.train.dnn import TensorFlow\n",
    "from azureml.core.authentication import InteractiveLoginAuthentication"
   ]
  },
  {
   "cell_type": "code",
   "execution_count": 57,
   "metadata": {
    "collapsed": true,
    "jupyter": {
     "outputs_hidden": false,
     "source_hidden": false
    },
    "nteract": {
     "transient": {
      "deleting": false
     }
    }
   },
   "outputs": [],
   "source": [
    "# Populate these settings\n",
    "azureSubscriptionID = 'dc6f773e-4b13-4f8b-8d76-f34469246722'    # This is your Azure Subscription ID  -- must exist\n",
    "azureResourceGroup = 'audioRG'                                  # Azure Resource Group                -- must exist\n",
    "azureMLWorkSpaceName = 'audioWorkSpace'                         # ML WorkSpace Name                   -- will create if needed\n",
    "azureMLWorkSpaceLocation = \"South Central US\"                   # location of Workspace\n",
    "azureMLClusterName = \"cluster3\"                                 # the name of the cluster             -- wil create if needed\n",
    "azureMLVMSize = 'Standard_NC6' # consider 'Standard_D2'         # the VM SKU if creating Cluster\n",
    "azureMLMazNodes = 1                                             # if you want to scale across nodes\n",
    "experiment_name = 'KerasAudioExperiment'                        # Expriment Name                      -- will create if needed\n",
    "\n",
    "# this is the Azure Resource group where the labled audio file are.\n",
    "azureStorgeAccountName = 'kevinsayazstorage'\n",
    "azureStorageKeyName = 'YJoRBREMOVEDyDROyTA=='\n",
    "azureStorageTargetContainer = 'audiolabled'"
   ]
  },
  {
   "cell_type": "code",
   "execution_count": null,
   "metadata": {},
   "outputs": [],
   "source": [
    "# downloading the requried files\n"
   ]
  },
  {
   "cell_type": "code",
   "execution_count": 58,
   "metadata": {
    "collapsed": true,
    "jupyter": {
     "outputs_hidden": false,
     "source_hidden": false
    },
    "nteract": {
     "transient": {
      "deleting": false
     }
    }
   },
   "outputs": [
    {
     "data": {
      "text/plain": [
       "$AZUREML_DATAREFERENCE_9ccb1fda740147be9089bbc7febb5d89"
      ]
     },
     "execution_count": 58,
     "metadata": {},
     "output_type": "execute_result"
    }
   ],
   "source": [
    "# bacause my account has access to several Azure Subscriptions and several Azure AD, specifying the Azure AD (Tenant ID) below:\n",
    "# InteractiveLoginAuthentication(force=False, tenant_id='da5b399b-aca8-4fee-a37b-f1dcd20717ce', cloud=None)\n",
    "\n",
    "# if we don't have a workspace, authenticate the user and create one\n",
    "if azureMLWorkSpaceName not in Workspace.list(subscription_id=azureSubscriptionID):\n",
    "    ws=Workspace.create(subscription_id=azureSubscriptionID, resource_group=azureResourceGroup, name=azureMLWorkSpaceName, location=azureMLWorkSpaceLocation)\n",
    "else:\n",
    "    ws=Workspace.get(azureMLWorkSpaceName, subscription_id=azureSubscriptionID)\n",
    "\n",
    "# create or use an existing experiment\n",
    "exp = Experiment(workspace=ws, name=experiment_name)\n",
    "\n",
    "# register our existing Azure Blob Container with the labled audio files\n",
    "ds = Datastore.register_azure_blob_container(workspace=ws, datastore_name=azureStorageTargetContainer, container_name=azureStorageTargetContainer,\n",
    "    account_name=azureStorgeAccountName, account_key=azureStorageKeyName, create_if_not_exists=False)\n",
    "\n",
    "# create a reference where we mount the DataStore to the container instance\n",
    "dr = DataReferenceConfiguration(datastore_name=ds.name, path_on_compute='data', mode='mount')\n",
    "\n",
    "# upload any source files from this Jypyter Notebook\n",
    "ws.get_default_datastore().upload(src_dir='keras_audio', target_path='keras_audio', overwrite=True, show_progress=False)\n",
    "ws.get_default_datastore().upload(src_dir='model', target_path='model', overwrite=True, show_progress=False)"
   ]
  },
  {
   "cell_type": "code",
   "execution_count": 59,
   "metadata": {
    "collapsed": true,
    "jupyter": {
     "outputs_hidden": false,
     "source_hidden": false
    },
    "nteract": {
     "transient": {
      "deleting": false
     }
    }
   },
   "outputs": [
    {
     "name": "stdout",
     "output_type": "stream",
     "text": [
      "using existing computer cluster: cluster3\n"
     ]
    }
   ],
   "source": [
    "# getting or creating a cluster\n",
    "\n",
    "try:\n",
    "    compute_target = ComputeTarget(workspace=ws, name=azureMLClusterName)\n",
    "    print('using existing computer cluster: ' + azureMLClusterName)\n",
    "except ComputeTargetException:\n",
    "    print('Creating a new compute target: ' + azureMLClusterName)\n",
    "    compute_config = AmlCompute.provisioning_configuration(vm_size=azureMLVMSize, vm_priority='lowpriority', max_nodes=azureMLMazNodes, \n",
    "        idle_seconds_before_scaledown=600, admin_username=azureMLClusterName[:8].lower(), admin_user_password=azureStorageKeyName[:20])\n",
    "    compute_target = ComputeTarget.create(workspace=ws, name=azureMLClusterName, provisioning_configuration=compute_config)\n",
    "    compute_target.wait_for_completion(show_output=True, timeout_in_minutes=20)\n",
    "\n",
    "script_params = {\n",
    "    '--data_dir': ds.as_mount()\n",
    "}\n"
   ]
  },
  {
   "cell_type": "code",
   "execution_count": 60,
   "metadata": {
    "collapsed": true,
    "jupyter": {
     "outputs_hidden": false,
     "source_hidden": false
    },
    "nteract": {
     "transient": {
      "deleting": false
     }
    }
   },
   "outputs": [
    {
     "name": "stdout",
     "output_type": "stream",
     "text": [
      "RunId: KerasAudioExperiment_1593520866_0267cae6\n",
      "Web View: https://ml.azure.com/experiments/KerasAudioExperiment/runs/KerasAudioExperiment_1593520866_0267cae6?wsid=/subscriptions/dc6f773e-4b13-4f8b-8d76-f34469246722/resourcegroups/audioRG/workspaces/audioWorkSpace\n"
     ]
    }
   ],
   "source": [
    "# creating a trainer\n",
    "est = TensorFlow(source_directory='.',\n",
    "                 entry_script='run.py',\n",
    "                 script_params=script_params,\n",
    "                 compute_target=compute_target,\n",
    "                 # sadly, the latest librosa does not support load, so ... loading version 0.6.0\n",
    "                 pip_packages=['keras==2.2.5', 'sklearn', 'librosa==0.6.0', 'lru-dict==1.1.6', 'azure-storage-blob==0.37.1'],\n",
    "                 use_gpu=(\"NC\" in azureMLVMSize.upper()),\n",
    "                 framework_version='1.13',\n",
    "                 node_count=azureMLMazNodes,\n",
    "                 process_count_per_node=1,\n",
    "                 distributed_training=MpiConfiguration())\n",
    "\n",
    "# running the trainer in an experiment\n",
    "run = exp.submit(est)\n",
    "\n",
    "# here we wait until completion so we can register the mode and download the files into this Jypyter Notebook\n",
    "run.wait_for_completion(show_output=True)\n",
    "\n",
    "model = run.register_model(model_name=experiment_name, \n",
    "                            model_path='outputs/model',\n",
    "                            description=experiment_name + ' built on ' + str(azureMLMazNodes) + ' nodes of ' + azureMLVMSize + ' from ' + azureStorgeAccountName + '/' + azureStorageTargetContainer)\n",
    "\n",
    "# downloading the files for the build step or pull it from the Azure Blob Storage: see run.py\n",
    "run.download_file(name='outputs/model/cifar10-architecture.json', output_file_path ='../4-buildEdgeModules/audioinference/models/cifar10-architecture.json')\n",
    "run.download_file(name='outputs/model/cifar10-config.npy', output_file_path ='../4-buildEdgeModules/audioinference/models/cifar10-config.npy')\n",
    "run.download_file(name='outputs/model/cifar10-history.npy', output_file_path ='../4-buildEdgeModules/audioinference/models/cifar10-history.npy')\n",
    "run.download_file(name='outputs/model/cifar10-weights.h5', output_file_path ='../4-buildEdgeModules/audioinference/models/cifar10-weights.h5')\n"
   ]
  }
 ],
 "metadata": {
  "kernel_info": {
   "name": "python3-azureml"
  },
  "kernelspec": {
   "display_name": "Python 3.6 - AzureML",
   "language": "python",
   "name": "python3-azureml"
  },
  "language_info": {
   "codemirror_mode": {
    "name": "ipython",
    "version": 3
   },
   "file_extension": ".py",
   "mimetype": "text/x-python",
   "name": "python",
   "nbconvert_exporter": "python",
   "pygments_lexer": "ipython3",
   "version": "3.6.9"
  },
  "nteract": {
   "version": "nteract-front-end@1.0.0"
  }
 },
 "nbformat": 4,
 "nbformat_minor": 2
}
